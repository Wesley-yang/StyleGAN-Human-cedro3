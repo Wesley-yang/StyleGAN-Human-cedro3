{
  "nbformat": 4,
  "nbformat_minor": 0,
  "metadata": {
    "colab": {
      "name": "stylegan_human",
      "provenance": [],
      "collapsed_sections": [],
      "include_colab_link": true
    },
    "kernelspec": {
      "name": "python3",
      "display_name": "Python 3"
    },
    "language_info": {
      "name": "python"
    },
    "accelerator": "GPU"
  },
  "cells": [
    {
      "cell_type": "markdown",
      "metadata": {
        "id": "view-in-github",
        "colab_type": "text"
      },
      "source": [
        "<a href=\"https://colab.research.google.com/github/cedro3/StyleGAN-Human/blob/main/stylegan_human.ipynb\" target=\"_parent\"><img src=\"https://colab.research.google.com/assets/colab-badge.svg\" alt=\"Open In Colab\"/></a>"
      ]
    },
    {
      "cell_type": "markdown",
      "source": [
        "# **StyleGAN-Human demo**"
      ],
      "metadata": {
        "id": "V21fuRh3VzGp"
      }
    },
    {
      "cell_type": "code",
      "source": [
        "#@title **Setup**\n",
        "\n",
        "# check gpu spec\n",
        "! nvidia-smi -L\n",
        "\n",
        "# get code from github\n",
        "! git clone https://github.com/cedro3/StyleGAN-Human.git\n",
        "%cd StyleGAN-Human\n",
        "\n",
        "# install ninja\n",
        "! wget https://github.com/ninja-build/ninja/releases/download/v1.8.2/ninja-linux.zip\n",
        "! sudo unzip ninja-linux.zip -d /usr/local/bin/\n",
        "! sudo update-alternatives --install /usr/bin/ninja ninja /usr/local/bin/ninja 1 --force \n",
        "\n",
        "# install library\n",
        "! pip install lpips\n",
        "! pip install --upgrade gdown\n",
        "\n",
        "# select tensorflow_version\n",
        "%tensorflow_version 1.x \n",
        "\n",
        "# download pretrained models\n",
        "! mkdir pretrained_models\n",
        "import gdown\n",
        "gdown.download('https://drive.google.com/uc?id=1FlAb1rYa0r_--Zj_ML8e6shmaF28hQb5', 'pretrained_models/stylegan2_1024.pkl', quiet=False)\n",
        "gdown.download('https://drive.google.com/uc?id=125OG7SMkXI-Kf2aqiwLLHyCvSW-gZk3M', 'pretrained_models/ffhq.pkl', quiet=False)\n",
        "gdown.download('https://drive.google.com/uc?id=1MduBgju5KFNrQfDLoQXJ_1_h5MnctCIG', 'pretrained_models/mmod_human_face_detector.dat', quiet=False)\n",
        "gdown.download('https://drive.google.com/uc?id=1A82DnJBJzt8wI2J8ZrCK5fgHcQ2-tcWM', 'pretrained_models/shape_predictor_68_face_landmarks.dat', quiet=False)\n",
        "\n",
        "# define function\n",
        "from function import *\n"
      ],
      "metadata": {
        "id": "06uyfXCZ_A02"
      },
      "execution_count": null,
      "outputs": []
    },
    {
      "cell_type": "code",
      "source": [
        "#@title **Generate images**\n",
        "\n",
        "seeds = \"0-4\" #@param {type:\"string\"}\n",
        "\n",
        "! python generate.py --outdir=outputs/stylegan2_1024/\\\n",
        "                     --seeds=$seeds\\\n",
        "                     --trunc=0.7\\\n",
        "                     --network=pretrained_models/stylegan2_1024.pkl\\\n",
        "                     --version 2\n",
        "\n",
        "# display_pic \n",
        "#display_pic('outputs/stylegan2_1024')"
      ],
      "metadata": {
        "id": "nMYkUhqv09eT"
      },
      "execution_count": null,
      "outputs": []
    },
    {
      "cell_type": "code",
      "source": [
        "#@title **interpolate images**\n",
        "\n",
        "seeds = \"97,9\" #@param {type:\"string\"}\n",
        "\n",
        "! python interpolation.py --network=pretrained_models/stylegan2_1024.pkl\\\n",
        "                          --seeds=$seeds\\\n",
        "                          --outdir=outputs/inter_gifs\n",
        "\n",
        "# gif2mp4\n",
        "! ffmpeg -y -i outputs/inter_gifs/latent_space_traversal.gif -pix_fmt yuv420p -loglevel error outputs/inter_gifs/inter.mp4\n",
        "\n",
        "# display_mp4\n",
        "display_mp4('outputs/inter_gifs/inter.mp4')"
      ],
      "metadata": {
        "id": "EiMTv2HC3URk"
      },
      "execution_count": null,
      "outputs": []
    },
    {
      "cell_type": "code",
      "source": [
        "#@title **Editing with InterfaceGAN, StyleSpace, and Sefa**\n",
        "\n",
        "attr_name = 'upper_length' #@param [\"upper_length\", \"botom_length\"]\n",
        "seeds = 61570 #@param {type:\"integer\"}\n",
        "\n",
        "! python edit.py --outdir outputs/editing\\\n",
        "                 --network pretrained_models/stylegan2_1024.pkl\\\n",
        "                 --attr_name $attr_name\\\n",
        "                 --seeds $seeds\n",
        "\n",
        "# display mp4\n",
        "video_path = 'outputs/editing/video/'+attr_name+'_'+str(seeds)+'.mp4'\n",
        "display_mp4(video_path) "
      ],
      "metadata": {
        "id": "zscpgax8g364"
      },
      "execution_count": null,
      "outputs": []
    },
    {
      "cell_type": "code",
      "source": [
        "#@title **style-mixing**\n",
        "\n",
        "rows = \"85,100,75,458,1500\" #@param {type:\"string\"}\n",
        "cols = \"55,821,1789,293\" #@param {type:\"string\"}\n",
        "styles = \"0-3\" #@param {type:\"string\"}\n",
        "\n",
        "! python style_mixing.py --outdir=outputs/stylemixing\\\n",
        "                         --rows=$rows\\\n",
        "                         --cols=$cols\\\n",
        "                         --network=pretrained_models/stylegan2_1024.pkl\\\n",
        "                         --styles=$styles\n",
        "\n",
        "# display png\n",
        "from IPython.display import Image,display_png\n",
        "display_png(Image('outputs/stylemixing/grid.png'))"
      ],
      "metadata": {
        "id": "9sIpUA8581H-"
      },
      "execution_count": null,
      "outputs": []
    },
    {
      "cell_type": "code",
      "source": [
        "#@title **Perform joint optimization and generate seamless images**\n",
        "\n",
        "face_seed = \"10\" #@param {type:\"string\"}\n",
        "body_seed = \"89180\" #@param {type:\"string\"}\n",
        "\n",
        "!python insetgan.py --face_seed=$face_seed\\\n",
        "                    --body_seed=$body_seed\\\n",
        "                    --joint_steps=500\\\n",
        "                    --outdir outputs/insetgan\\\n",
        "                    --video 1\n",
        "\n",
        "# display mp4\n",
        "video_path = 'outputs/insetgan/'+face_seed.zfill(4)+'_'+body_seed.zfill(4)+'.mp4'\n",
        "display_mp4(video_path)"
      ],
      "metadata": {
        "id": "GZ1MXigv49tJ"
      },
      "execution_count": null,
      "outputs": []
    }
  ]
}